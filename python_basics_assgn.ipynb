{
  "nbformat": 4,
  "nbformat_minor": 0,
  "metadata": {
    "colab": {
      "provenance": []
    },
    "kernelspec": {
      "name": "python3",
      "display_name": "Python 3"
    },
    "language_info": {
      "name": "python"
    }
  },
  "cells": [
    {
      "cell_type": "markdown",
      "source": [
        "#Practical questions"
      ],
      "metadata": {
        "id": "pThIYBCrdfhx"
      }
    },
    {
      "cell_type": "markdown",
      "source": [
        "1. qs 1"
      ],
      "metadata": {
        "id": "49jf1c9HdlBt"
      }
    },
    {
      "cell_type": "code",
      "source": [
        "print(\"hello,world!\")"
      ],
      "metadata": {
        "colab": {
          "base_uri": "https://localhost:8080/"
        },
        "id": "x-vLhTBkdoa3",
        "outputId": "3dc61fc7-03a6-4595-c7c0-5f5b9ff07bbb"
      },
      "execution_count": null,
      "outputs": [
        {
          "output_type": "stream",
          "name": "stdout",
          "text": [
            "hello,world!\n"
          ]
        }
      ]
    },
    {
      "cell_type": "markdown",
      "source": [
        "2. qs 2"
      ],
      "metadata": {
        "id": "hHkKGZg_eBNI"
      }
    },
    {
      "cell_type": "code",
      "source": [
        "x=input(\"name:\")\n",
        "y=input(\"age:\")\n"
      ],
      "metadata": {
        "colab": {
          "base_uri": "https://localhost:8080/"
        },
        "id": "mcYvcTLBeKwt",
        "outputId": "0bd6b24c-50ec-42d1-95ce-ae179c2a1432"
      },
      "execution_count": null,
      "outputs": [
        {
          "name": "stdout",
          "output_type": "stream",
          "text": [
            "name:aditya\n",
            "age:25\n"
          ]
        }
      ]
    },
    {
      "cell_type": "markdown",
      "source": [
        "3. qs 3"
      ],
      "metadata": {
        "id": "ZlxsfOjze1sY"
      }
    },
    {
      "cell_type": "code",
      "source": [
        "help(\"keywords\")"
      ],
      "metadata": {
        "colab": {
          "base_uri": "https://localhost:8080/"
        },
        "id": "zCb7rpxVe23a",
        "outputId": "1e422a72-b4be-4365-fe26-6fe0ffbb9799"
      },
      "execution_count": null,
      "outputs": [
        {
          "output_type": "stream",
          "name": "stdout",
          "text": [
            "\n",
            "Here is a list of the Python keywords.  Enter any keyword to get more help.\n",
            "\n",
            "False               class               from                or\n",
            "None                continue            global              pass\n",
            "True                def                 if                  raise\n",
            "and                 del                 import              return\n",
            "as                  elif                in                  try\n",
            "assert              else                is                  while\n",
            "async               except              lambda              with\n",
            "await               finally             nonlocal            yield\n",
            "break               for                 not                 \n",
            "\n"
          ]
        }
      ]
    },
    {
      "cell_type": "markdown",
      "source": [
        "4. qs 4"
      ],
      "metadata": {
        "id": "sDVZ6r03fE3l"
      }
    },
    {
      "cell_type": "code",
      "source": [
        "import keyword\n",
        "\n",
        "def is_python_keyword(word):\n",
        "    return keyword.iskeyword(word)\n",
        "\n",
        "word = input(\"Enter a word: \")\n",
        "if is_python_keyword(word):\n",
        "    print(f\"'{word}' is a Python keyword.\")\n",
        "else:\n",
        "    print(f\"'{word}' is not a Python keyword.\")"
      ],
      "metadata": {
        "colab": {
          "base_uri": "https://localhost:8080/"
        },
        "id": "jqQiG5YgfGep",
        "outputId": "c93561d0-27bb-4fb5-ad61-47ff3fd9f44c"
      },
      "execution_count": null,
      "outputs": [
        {
          "output_type": "stream",
          "name": "stdout",
          "text": [
            "Enter a word: for\n",
            "'for' is a Python keyword.\n"
          ]
        }
      ]
    },
    {
      "cell_type": "markdown",
      "source": [
        "5. qs 5"
      ],
      "metadata": {
        "id": "cTNYT2xkfV3N"
      }
    },
    {
      "cell_type": "code",
      "source": [
        "x=[1,2,3,4,5]\n",
        "x[2]=22\n",
        "print(x)\n"
      ],
      "metadata": {
        "colab": {
          "base_uri": "https://localhost:8080/"
        },
        "id": "kOoAoSVKfXfM",
        "outputId": "19d2cb48-499e-4d67-8466-d9ac9f6df288"
      },
      "execution_count": null,
      "outputs": [
        {
          "output_type": "stream",
          "name": "stdout",
          "text": [
            "[1, 2, 22, 4, 5]\n"
          ]
        }
      ]
    },
    {
      "cell_type": "code",
      "source": [
        "y=(1,2,3,4,5)\n",
        "y(2)==22\n",
        "print(y)"
      ],
      "metadata": {
        "colab": {
          "base_uri": "https://localhost:8080/",
          "height": 176
        },
        "id": "sca0FQGNh0U3",
        "outputId": "4292b6e1-dfac-4fda-f254-14d6c664d7e0"
      },
      "execution_count": null,
      "outputs": [
        {
          "output_type": "error",
          "ename": "TypeError",
          "evalue": "'tuple' object is not callable",
          "traceback": [
            "\u001b[0;31m---------------------------------------------------------------------------\u001b[0m",
            "\u001b[0;31mTypeError\u001b[0m                                 Traceback (most recent call last)",
            "\u001b[0;32m<ipython-input-19-858e829cf00e>\u001b[0m in \u001b[0;36m<cell line: 0>\u001b[0;34m()\u001b[0m\n\u001b[1;32m      1\u001b[0m \u001b[0my\u001b[0m\u001b[0;34m=\u001b[0m\u001b[0;34m(\u001b[0m\u001b[0;36m1\u001b[0m\u001b[0;34m,\u001b[0m\u001b[0;36m2\u001b[0m\u001b[0;34m,\u001b[0m\u001b[0;36m3\u001b[0m\u001b[0;34m,\u001b[0m\u001b[0;36m4\u001b[0m\u001b[0;34m,\u001b[0m\u001b[0;36m5\u001b[0m\u001b[0;34m)\u001b[0m\u001b[0;34m\u001b[0m\u001b[0;34m\u001b[0m\u001b[0m\n\u001b[0;32m----> 2\u001b[0;31m \u001b[0my\u001b[0m\u001b[0;34m(\u001b[0m\u001b[0;36m2\u001b[0m\u001b[0;34m)\u001b[0m\u001b[0;34m==\u001b[0m\u001b[0;36m22\u001b[0m\u001b[0;34m\u001b[0m\u001b[0;34m\u001b[0m\u001b[0m\n\u001b[0m\u001b[1;32m      3\u001b[0m \u001b[0mprint\u001b[0m\u001b[0;34m(\u001b[0m\u001b[0my\u001b[0m\u001b[0;34m)\u001b[0m\u001b[0;34m\u001b[0m\u001b[0;34m\u001b[0m\u001b[0m\n",
            "\u001b[0;31mTypeError\u001b[0m: 'tuple' object is not callable"
          ]
        }
      ]
    },
    {
      "cell_type": "markdown",
      "source": [
        "6. qs 6&7\n"
      ],
      "metadata": {
        "id": "i9T0oSzFiUMZ"
      }
    },
    {
      "cell_type": "code",
      "source": [
        "#dictionatries are mutable\n",
        "x={\"name\":\"adi\", \"age\":25}\n",
        "x.update({\"country\":\"india\"})\n",
        "print(x)"
      ],
      "metadata": {
        "colab": {
          "base_uri": "https://localhost:8080/"
        },
        "id": "mSqEffcvienx",
        "outputId": "62e8ee5c-7f4b-4346-b3e1-f6c21bbb3ab2"
      },
      "execution_count": null,
      "outputs": [
        {
          "output_type": "stream",
          "name": "stdout",
          "text": [
            "{'name': 'adi', 'age': 25, 'country': 'india'}\n"
          ]
        }
      ]
    },
    {
      "cell_type": "code",
      "source": [
        "#tuples are immutable"
      ],
      "metadata": {
        "id": "ZgwK_tPCnlGN"
      },
      "execution_count": null,
      "outputs": []
    },
    {
      "cell_type": "markdown",
      "source": [
        "8. qs no. 8"
      ],
      "metadata": {
        "id": "7lDSFEDwxl-u"
      }
    },
    {
      "cell_type": "code",
      "source": [
        "x=8\n",
        "y=5\n",
        "z=(x>y and y<x)\n",
        "print(z)\n",
        "b=(x>y or y>x)\n",
        "print(b)"
      ],
      "metadata": {
        "colab": {
          "base_uri": "https://localhost:8080/"
        },
        "id": "2vyd6uX8xoRt",
        "outputId": "cbfbc7af-97be-4426-a513-ab3ed16fe208"
      },
      "execution_count": null,
      "outputs": [
        {
          "output_type": "stream",
          "name": "stdout",
          "text": [
            "True\n",
            "True\n"
          ]
        }
      ]
    },
    {
      "cell_type": "markdown",
      "source": [
        "9.qs no 9"
      ],
      "metadata": {
        "id": "MOr-uLFboZHP"
      }
    },
    {
      "cell_type": "code",
      "source": [
        "x=\"77\"\n",
        "y=int(x)\n",
        "print(y)"
      ],
      "metadata": {
        "colab": {
          "base_uri": "https://localhost:8080/"
        },
        "id": "Ipf2i-V4o5Du",
        "outputId": "f70be777-dc2f-4871-ca27-b9541f48f026"
      },
      "execution_count": null,
      "outputs": [
        {
          "output_type": "stream",
          "name": "stdout",
          "text": [
            "77\n"
          ]
        }
      ]
    },
    {
      "cell_type": "code",
      "source": [
        "p=\"7.77\"\n",
        "q=float(p)\n",
        "print(q)"
      ],
      "metadata": {
        "colab": {
          "base_uri": "https://localhost:8080/"
        },
        "id": "C_8qdEe5zyN8",
        "outputId": "8e140242-8e33-4876-85a5-a94deb1ab920"
      },
      "execution_count": null,
      "outputs": [
        {
          "output_type": "stream",
          "name": "stdout",
          "text": [
            "7.77\n"
          ]
        }
      ]
    },
    {
      "cell_type": "code",
      "source": [
        "r=\"jack\"\n",
        "s=bool(r)\n",
        "print(s)"
      ],
      "metadata": {
        "colab": {
          "base_uri": "https://localhost:8080/"
        },
        "id": "zIizURsu0G5i",
        "outputId": "258f02b9-f9e2-48c1-a9fc-1ad6d263917e"
      },
      "execution_count": null,
      "outputs": [
        {
          "output_type": "stream",
          "name": "stdout",
          "text": [
            "True\n"
          ]
        }
      ]
    },
    {
      "cell_type": "markdown",
      "source": [
        "10. qs 10"
      ],
      "metadata": {
        "id": "jHb0xUdKqYN9"
      }
    },
    {
      "cell_type": "code",
      "source": [
        "a=[5,6,7,8]\n",
        "b=set(a)\n",
        "print(b)"
      ],
      "metadata": {
        "colab": {
          "base_uri": "https://localhost:8080/"
        },
        "id": "twSz2UU6qa55",
        "outputId": "89093bb6-8d04-4271-8828-5714cca141fb"
      },
      "execution_count": null,
      "outputs": [
        {
          "output_type": "stream",
          "name": "stdout",
          "text": [
            "{8, 5, 6, 7}\n"
          ]
        }
      ]
    },
    {
      "cell_type": "markdown",
      "source": [
        "11. qs 11"
      ],
      "metadata": {
        "id": "Y4UGPTxmsyAJ"
      }
    },
    {
      "cell_type": "code",
      "source": [
        "num = float(input(\"Enter a number: \"))\n",
        "if num < 0:\n",
        "  print(\"negative\")\n",
        "elif num==0:\n",
        "  print(\"zero\")\n",
        "else:\n",
        "  print(\"positive\")\n",
        "\n",
        "\n",
        "\n"
      ],
      "metadata": {
        "colab": {
          "base_uri": "https://localhost:8080/"
        },
        "id": "ZaM61rYVszqI",
        "outputId": "f5829c4b-3720-4a1a-a5bb-a84bdf998612"
      },
      "execution_count": null,
      "outputs": [
        {
          "output_type": "stream",
          "name": "stdout",
          "text": [
            "Enter a number: 55\n",
            "positive\n"
          ]
        }
      ]
    },
    {
      "cell_type": "markdown",
      "source": [
        "12. qs 12"
      ],
      "metadata": {
        "id": "HB0bfzLJrURj"
      }
    },
    {
      "cell_type": "code",
      "source": [
        "for num in range(1,11):\n",
        "    print(f\"{num}\")\n"
      ],
      "metadata": {
        "colab": {
          "base_uri": "https://localhost:8080/"
        },
        "id": "-HX3PO5GrW1V",
        "outputId": "8fcb496d-c972-41d9-afc0-7e7929858682"
      },
      "execution_count": null,
      "outputs": [
        {
          "output_type": "stream",
          "name": "stdout",
          "text": [
            "1\n",
            "2\n",
            "3\n",
            "4\n",
            "5\n",
            "6\n",
            "7\n",
            "8\n",
            "9\n",
            "10\n"
          ]
        }
      ]
    },
    {
      "cell_type": "markdown",
      "source": [
        "13. qs 13"
      ],
      "metadata": {
        "id": "Z53RJw6KltTc"
      }
    },
    {
      "cell_type": "code",
      "source": [
        "sum_even=0\n",
        "for numbers in range(1,51):\n",
        "  if numbers % 2==0:\n",
        "    sum_even=sum_even+numbers\n",
        "    print(sum_even)"
      ],
      "metadata": {
        "colab": {
          "base_uri": "https://localhost:8080/"
        },
        "id": "xn2astDqlwC3",
        "outputId": "e0ad1121-949f-4fd7-a3c1-c1a21eae0418"
      },
      "execution_count": null,
      "outputs": [
        {
          "output_type": "stream",
          "name": "stdout",
          "text": [
            "2\n",
            "6\n",
            "12\n",
            "20\n",
            "30\n",
            "42\n",
            "56\n",
            "72\n",
            "90\n",
            "110\n",
            "132\n",
            "156\n",
            "182\n",
            "210\n",
            "240\n",
            "272\n",
            "306\n",
            "342\n",
            "380\n",
            "420\n",
            "462\n",
            "506\n",
            "552\n",
            "600\n",
            "650\n"
          ]
        }
      ]
    },
    {
      "cell_type": "markdown",
      "source": [
        "14. qs 14"
      ],
      "metadata": {
        "id": "tJK4g3mux_L4"
      }
    },
    {
      "cell_type": "code",
      "source": [
        "string = input(\"Enter a string: \")\n",
        "\n",
        "reversed_string = \"\"\n",
        "\n",
        "index = len(string) - 1\n",
        "while index >= 0:\n",
        "    reversed_string += string[index]\n",
        "    index -= 1\n",
        "\n",
        "print(\"Reversed string:\", reversed_string)\n"
      ],
      "metadata": {
        "id": "ksAGqMLoyBh-",
        "colab": {
          "base_uri": "https://localhost:8080/"
        },
        "outputId": "4de45702-90e1-42b3-e3fd-58d3512d119c"
      },
      "execution_count": 1,
      "outputs": [
        {
          "output_type": "stream",
          "name": "stdout",
          "text": [
            "Enter a string: aditya\n",
            "Reversed string: aytida\n"
          ]
        }
      ]
    },
    {
      "cell_type": "markdown",
      "source": [
        "15. qs 15\n"
      ],
      "metadata": {
        "id": "McNYGqtWpXQe"
      }
    },
    {
      "cell_type": "code",
      "source": [
        "number = 10\n",
        "factorial=1\n",
        "while number>0:\n",
        "  factorial=number*factorial\n",
        "  number-=1\n",
        "print(factorial)"
      ],
      "metadata": {
        "colab": {
          "base_uri": "https://localhost:8080/"
        },
        "id": "K9BpdxtjpZco",
        "outputId": "4290b9ea-1ccc-4820-e624-6d2e968847d6"
      },
      "execution_count": null,
      "outputs": [
        {
          "output_type": "stream",
          "name": "stdout",
          "text": [
            "3628800\n"
          ]
        }
      ]
    },
    {
      "cell_type": "markdown",
      "source": [
        "#Theory questions\n"
      ],
      "metadata": {
        "id": "LUq_LbLh0N6o"
      }
    },
    {
      "cell_type": "markdown",
      "source": [
        "**ans 1** - python is a programming language ,discovered by guido van rossum in 1991.\n",
        "why popular\n",
        "- easy syntaxes and easy to operate\n",
        "- lot of dictionaries\n",
        "- dynamic in nature\n",
        "\n",
        "**ans 2** - interpretor is a program that reads and execute a python code.\n",
        "\n",
        "**ans 3** - reserved words that have some special meaning ex len means length,def means define etc.\n",
        "\n",
        "**ans 4** - no\n",
        "\n",
        "**ans 5**- it means any advancement or change in the information.\n",
        "\n",
        "**ans 6** - tuples are immutable as it guarantee that a collection of objects will remain fixed, whereas list give the flexiblity to append or change the objects.\n",
        "\n",
        "**ans 7** - The \"is\" operator checks if two variables point to the same object.\n",
        "whereas == is a comparison operator , it compares two objects.\n",
        "\n",
        "**ans 8** - logical operator consists of-(and , or)\n",
        "      for 'and' operator to be true both the statements should be correct, and for 'or' operator to be true either of thr statement should be correct.\n",
        "\n",
        "**ans 9** - changing a data type to another data type is known as type casting.\n",
        "\n",
        "**ans 10** - Implicit\n",
        "Python automatically converts one data type to another without any explicit instruction from the programmer.\n",
        "Explicit\n",
        "The programmer uses predefined functions to convert an object's data type to the required data type\n",
        "\n",
        "**ans 11** - conditionals statements makes the flow of a program by using block of codes based on conditions.\n",
        "\n",
        "**ans 12** - elif means statements else if, It can be used in conditional statements to check for multiple conditions.\n",
        "\n",
        "**ans 13** - for loop- continues for a specified told sequence.\n",
        "while loop - continues till the conditions remains true.\n",
        "\n",
        "**ans 14** - when you want to make a password for a system a while loop will be more preferable as it stops when the password is false.\n"
      ],
      "metadata": {
        "id": "ISKIT10e0Sxk"
      }
    }
  ]
}